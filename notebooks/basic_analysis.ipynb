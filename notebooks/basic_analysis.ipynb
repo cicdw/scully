{
 "cells": [
  {
   "cell_type": "code",
   "execution_count": 1,
   "metadata": {},
   "outputs": [],
   "source": [
    "import pandas as pd\n",
    "import sqlite3\n",
    "\n",
    "conn = sqlite3.connect('../data/xfiles_db.sqlite')\n",
    "db = conn.cursor()"
   ]
  },
  {
   "cell_type": "code",
   "execution_count": 2,
   "metadata": {},
   "outputs": [],
   "source": [
    "db.execute('SELECT COUNT(*) FROM XFILES')\n",
    "assert(db.fetchone()[0] == 64776)"
   ]
  },
  {
   "cell_type": "code",
   "execution_count": 3,
   "metadata": {},
   "outputs": [
    {
     "data": {
      "text/html": [
       "<div>\n",
       "<style>\n",
       "    .dataframe thead tr:only-child th {\n",
       "        text-align: right;\n",
       "    }\n",
       "\n",
       "    .dataframe thead th {\n",
       "        text-align: left;\n",
       "    }\n",
       "\n",
       "    .dataframe tbody tr th {\n",
       "        vertical-align: top;\n",
       "    }\n",
       "</style>\n",
       "<table border=\"1\" class=\"dataframe\">\n",
       "  <thead>\n",
       "    <tr style=\"text-align: right;\">\n",
       "      <th></th>\n",
       "      <th>EPISODE</th>\n",
       "      <th>CONVO_NUM</th>\n",
       "      <th>CHARACTER</th>\n",
       "      <th>TEXT</th>\n",
       "    </tr>\n",
       "  </thead>\n",
       "  <tbody>\n",
       "    <tr>\n",
       "      <th>0</th>\n",
       "      <td>TREVOR</td>\n",
       "      <td>0</td>\n",
       "      <td>GUARD</td>\n",
       "      <td>Last wall... Pour it on!\\n\\n</td>\n",
       "    </tr>\n",
       "    <tr>\n",
       "      <th>1</th>\n",
       "      <td>TREVOR</td>\n",
       "      <td>1</td>\n",
       "      <td>WHALEY</td>\n",
       "      <td>(thinking this is all a waste of time)   M...</td>\n",
       "    </tr>\n",
       "    <tr>\n",
       "      <th>2</th>\n",
       "      <td>TREVOR</td>\n",
       "      <td>2</td>\n",
       "      <td>GUARD</td>\n",
       "      <td>(warning)   Whaley!\\n\\n</td>\n",
       "    </tr>\n",
       "    <tr>\n",
       "      <th>3</th>\n",
       "      <td>TREVOR</td>\n",
       "      <td>3</td>\n",
       "      <td>WHALEY</td>\n",
       "      <td>A big hole.  The man ought to be givin' us...</td>\n",
       "    </tr>\n",
       "    <tr>\n",
       "      <th>4</th>\n",
       "      <td>TREVOR</td>\n",
       "      <td>4</td>\n",
       "      <td>PINKER RAWLS</td>\n",
       "      <td>Shut up and hold it still.\\n\\n</td>\n",
       "    </tr>\n",
       "  </tbody>\n",
       "</table>\n",
       "</div>"
      ],
      "text/plain": [
       "  EPISODE  CONVO_NUM     CHARACTER  \\\n",
       "0  TREVOR          0         GUARD   \n",
       "1  TREVOR          1        WHALEY   \n",
       "2  TREVOR          2         GUARD   \n",
       "3  TREVOR          3        WHALEY   \n",
       "4  TREVOR          4  PINKER RAWLS   \n",
       "\n",
       "                                                TEXT  \n",
       "0                       Last wall... Pour it on!\\n\\n  \n",
       "1      (thinking this is all a waste of time)   M...  \n",
       "2                            (warning)   Whaley!\\n\\n  \n",
       "3      A big hole.  The man ought to be givin' us...  \n",
       "4                     Shut up and hold it still.\\n\\n  "
      ]
     },
     "execution_count": 3,
     "metadata": {},
     "output_type": "execute_result"
    }
   ],
   "source": [
    "df = pd.read_sql_query('SELECT * FROM XFILES', conn)\n",
    "assert(df.shape[0] == 64776)\n",
    "conn.close()\n",
    "df.head()"
   ]
  },
  {
   "cell_type": "code",
   "execution_count": 4,
   "metadata": {},
   "outputs": [
    {
     "data": {
      "text/plain": [
       "MULDER                   14417\n",
       "SCULLY                   13930\n",
       "DOGGETT                   2565\n",
       "SKINNER                   2040\n",
       "REYES                     1129\n",
       "CUT TO                     605\n",
       "BYERS                      420\n",
       "FROHIKE                    380\n",
       "KRYCEK                     333\n",
       "MAN                        319\n",
       "LANGLY                     311\n",
       "CIGARETTE SMOKING MAN      219\n",
       "KERSH                      210\n",
       "CIGARETTE-SMOKING MAN      206\n",
       "DOCTOR                     193\n",
       "Name: CHARACTER, dtype: int64"
      ]
     },
     "execution_count": 4,
     "metadata": {},
     "output_type": "execute_result"
    }
   ],
   "source": [
    "df.CHARACTER.value_counts().head(15)"
   ]
  },
  {
   "cell_type": "code",
   "execution_count": 5,
   "metadata": {},
   "outputs": [
    {
     "data": {
      "text/plain": [
       "MULDER                   15166\n",
       "SCULLY                   14290\n",
       "DOGGETT                   2565\n",
       "SKINNER                   2040\n",
       "REYES                     1129\n",
       "CIGARETTE SMOKING MAN      447\n",
       "BYERS                      420\n",
       "FROHIKE                    380\n",
       "KRYCEK                     333\n",
       "MAN                        319\n",
       "LANGLY                     311\n",
       "KERSH                      210\n",
       "DOCTOR                     193\n",
       "WOMAN                      171\n",
       "SPENDER                    169\n",
       "Name: CHARACTER, dtype: int64"
      ]
     },
     "execution_count": 5,
     "metadata": {},
     "output_type": "execute_result"
    }
   ],
   "source": [
    "def clean_characters(char):\n",
    "    if 'SCULLY' in char:\n",
    "        return 'SCULLY'\n",
    "    elif 'MULDER' in char:\n",
    "        return 'MULDER'\n",
    "    elif 'CIGARETTE' in char:\n",
    "        return 'CIGARETTE SMOKING MAN'\n",
    "    return char\n",
    "\n",
    "df['CHARACTER'] = df.CHARACTER.apply(clean_characters)\n",
    "df.drop(df.loc[df.CHARACTER == 'CUT TO'].index, inplace=True)\n",
    "df.CHARACTER.value_counts().head(15)"
   ]
  },
  {
   "cell_type": "markdown",
   "metadata": {},
   "source": [
    "## Basic Word Frequency"
   ]
  },
  {
   "cell_type": "code",
   "execution_count": 6,
   "metadata": {},
   "outputs": [
    {
     "data": {
      "text/plain": [
       "['Last wall... Pour it on!',\n",
       " \"(thinking this is all a waste of time)   Man, this little piece of\\nwood ain't gonna hold no twister!  We need to dig a hole, you know what I'm\\nsaying?\",\n",
       " '(warning)   Whaley!',\n",
       " \"A big hole.  The man ought to be givin' us shovels.  This whole\\ndamn place is going to blow away.  Why even bother?  Yo, boy, back me up,\\nhere!\",\n",
       " 'Shut up and hold it still.']"
      ]
     },
     "execution_count": 6,
     "metadata": {},
     "output_type": "execute_result"
    }
   ],
   "source": [
    "dialogue = [txt.strip() for txt in df.TEXT.values]\n",
    "dialogue[:5]"
   ]
  },
  {
   "cell_type": "markdown",
   "metadata": {},
   "source": [
    "I want to avoid the overhead of nltk, gensim and spacy, and also want full control."
   ]
  },
  {
   "cell_type": "code",
   "execution_count": 7,
   "metadata": {},
   "outputs": [],
   "source": [
    "from collections import Counter\n",
    "from functools import lru_cache\n",
    "from stop_words import get_stop_words\n",
    "from string import punctuation\n",
    "\n",
    "\n",
    "word_counts = Counter()\n",
    "stop_words = get_stop_words('en') + ['']\n",
    "\n",
    "\n",
    "@lru_cache(maxsize=1024)\n",
    "def clean_word(wrd):\n",
    "    clear = [\"'\", '-', '\\x92', ',', '\\x97', '.', '\\x94'] + list(punctuation)\n",
    "    clean = wrd.lower().strip().translate({ord(c): None for c in clear})\n",
    "    return clean\n",
    "\n",
    "\n",
    "word_counts.update([clean_word(wrd) for txt in dialogue for wrd in txt.split() \\\n",
    "                    if clean_word(wrd) not in stop_words])"
   ]
  },
  {
   "cell_type": "code",
   "execution_count": 8,
   "metadata": {
    "scrolled": true
   },
   "outputs": [
    {
     "data": {
      "image/png": "[encoded data removed]",
      "text/plain": [
       "<matplotlib.figure.Figure at 0x10dd7fac8>"
      ]
     },
     "metadata": {},
     "output_type": "display_data"
    }
   ],
   "source": [
    "%matplotlib inline\n",
    "import matplotlib.pyplot as plt\n",
    " \n",
    "n = 30\n",
    "left = list(range(n))\n",
    "to_plot = word_counts.most_common(n)\n",
    "labels, heights = zip(*to_plot)\n",
    "\n",
    "plt.bar(left, heights); plt.xticks(left, labels, rotation=90)\n",
    "fig = plt.gcf()\n",
    "fig.set_size_inches(15.5, 5.0)\n",
    "plt.show()"
   ]
  },
  {
   "cell_type": "markdown",
   "metadata": {},
   "source": [
    "## Scully Response Word Count Matrix\n",
    "\n",
    "We want to form a word count matrix $M$ which is defined by\n",
    "\n",
    "$$\n",
    "M_{ij} = \\text{# of times word $i$ was spoken before Scully responded with word $j$}\n",
    "$$"
   ]
  },
  {
   "cell_type": "code",
   "execution_count": 9,
   "metadata": {},
   "outputs": [],
   "source": [
    "import numpy as np\n",
    "\n",
    "# minimum number of times a word should appear\n",
    "lb = 5\n",
    "\n",
    "# for performing lookups\n",
    "vocab = [wrd for wrd, count in word_counts.items() if count > lb]\n",
    "index_of = {w: i for i, w in enumerate(vocab)}\n",
    "word_at = {i: w for w, i in index_of.items()}\n",
    "\n",
    "n = len(index_of) # ~6592\n",
    "m = np.zeros((n, n))"
   ]
  },
  {
   "cell_type": "code",
   "execution_count": 10,
   "metadata": {
    "collapsed": true
   },
   "outputs": [],
   "source": [
    "import itertools\n",
    "\n",
    "\n",
    "def update_entry(prev_said, current, matrix=m):\n",
    "    for w1, w2 in itertools.product(prev_said, current):\n",
    "        if index_of.get(w1) and index_of.get(w2):\n",
    "            m[index_of[w1], index_of[w2]] += 1\n",
    "        \n",
    "    \n",
    "def update_matrix_with_episode(data, matrix=m):\n",
    "    \"Updates the Word Count Matrix m with episode data\"\n",
    "\n",
    "    last_spoke, last_said = None, None\n",
    "\n",
    "    for idx, row in data.iterrows():\n",
    "        char = row['CHARACTER']\n",
    "        dialogue = [clean_word(wrd) for wrd in row['TEXT'].split() if clean_word(wrd) not in stop_words]\n",
    "        if char == 'SCULLY':\n",
    "            if last_said is not None:\n",
    "                update_entry(last_said, dialogue, matrix=matrix)\n",
    "            last_spoke = char\n",
    "            continue \n",
    "            \n",
    "        if char == last_spoke:\n",
    "            last_said.extend(dialogue)\n",
    "            continue\n",
    "               \n",
    "        last_spoke, last_said = row['CHARACTER'], dialogue"
   ]
  },
  {
   "cell_type": "code",
   "execution_count": 11,
   "metadata": {},
   "outputs": [
    {
     "name": "stdout",
     "output_type": "stream",
     "text": [
      "CPU times: user 11.2 s, sys: 194 ms, total: 11.4 s\n",
      "Wall time: 11.5 s\n"
     ]
    }
   ],
   "source": [
    "%%time\n",
    "for episode, ep_df in df.sort_values(by=['EPISODE', 'CONVO_NUM']).groupby('EPISODE'):\n",
    "    update_matrix_with_episode(ep_df)"
   ]
  },
  {
   "cell_type": "code",
   "execution_count": 12,
   "metadata": {
    "scrolled": true
   },
   "outputs": [
    {
     "name": "stdout",
     "output_type": "stream",
     "text": [
      "To get Scully's attention, say \"scully\"\n",
      "Scully will probably respond with \"mulder\"\n"
     ]
    }
   ],
   "source": [
    "print('To get Scully\\'s attention, say \"{}\"'.format(word_at[m.sum(axis=1).argmax()]))\n",
    "print('Scully will probably respond with \"{}\"'.format(word_at[m.sum(axis=0).argmax()]))"
   ]
  },
  {
   "cell_type": "markdown",
   "metadata": {},
   "source": [
    "## Determine if Scully would respond"
   ]
  },
  {
   "cell_type": "code",
   "execution_count": 13,
   "metadata": {
    "collapsed": true
   },
   "outputs": [],
   "source": [
    "from sklearn.naive_bayes import MultinomialNB"
   ]
  },
  {
   "cell_type": "code",
   "execution_count": 14,
   "metadata": {
    "collapsed": true
   },
   "outputs": [],
   "source": [
    "naive = MultinomialNB(alpha=1.0, fit_prior=False)"
   ]
  }
 ],
 "metadata": {
  "kernelspec": {
   "display_name": "Python 3",
   "language": "python",
   "name": "python3"
  },
  "language_info": {
   "codemirror_mode": {
    "name": "ipython",
    "version": 3
   },
   "file_extension": ".py",
   "mimetype": "text/x-python",
   "name": "python",
   "nbconvert_exporter": "python",
   "pygments_lexer": "ipython3",
   "version": "3.5.4"
  }
 },
 "nbformat": 4,
 "nbformat_minor": 2
}
